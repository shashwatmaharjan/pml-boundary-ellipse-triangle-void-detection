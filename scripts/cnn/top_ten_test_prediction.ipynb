{
 "cells": [
  {
   "cell_type": "code",
   "execution_count": 1,
   "metadata": {},
   "outputs": [],
   "source": [
    "# Import necessary libraries\n",
    "import numpy as np\n",
    "import matplotlib.pyplot as plt\n",
    "import tensorflow as tf\n",
    "import os\n",
    "import random\n",
    "\n",
    "from scipy.io import loadmat\n",
    "from matplotlib.ticker import MaxNLocator"
   ]
  },
  {
   "cell_type": "code",
   "execution_count": 2,
   "metadata": {},
   "outputs": [],
   "source": [
    "# Define fonts and fontsize for plotting\n",
    "plt.rcParams['font.family'] = 'serif'\n",
    "plt.rcParams['mathtext.fontset'] = 'dejavuserif'\n",
    "fontsize = 15\n",
    "fontsize_ticks = 12"
   ]
  },
  {
   "cell_type": "code",
   "execution_count": 3,
   "metadata": {},
   "outputs": [],
   "source": [
    "# Define necessary functions\n",
    "# Function to get displacement and void data\n",
    "def get_data(file_directory, void_number):\n",
    "\n",
    "    # Load the displacement data\n",
    "    test_displacement_data = loadmat(os.path.join(file_directory, f'void_{void_number}_test_displacement_data_normalized.mat'))['displacement_data']\n",
    "   \n",
    "    # Load the void data\n",
    "    test_void_data = loadmat(os.path.join(file_directory, f'void_{void_number}_test_void_data.mat'))['void_data']\n",
    "    \n",
    "    return test_displacement_data, test_void_data"
   ]
  },
  {
   "cell_type": "code",
   "execution_count": 4,
   "metadata": {},
   "outputs": [],
   "source": [
    "# Function to calculate metrics\n",
    "def metrics_calculator(target, predicted):\n",
    "\n",
    "    # True positive\n",
    "    tp = 0\n",
    "\n",
    "    # True negative\n",
    "    tn = 0\n",
    "\n",
    "    # False positive\n",
    "    fp = 0\n",
    "\n",
    "    # False negative\n",
    "    fn = 0\n",
    "\n",
    "    # Lists to store accuracy, precision, and recall\n",
    "    accuracy = []\n",
    "    precision = []\n",
    "    recall = []\n",
    "\n",
    "    for n_sample in range(target.shape[0]):\n",
    "\n",
    "        for n_element in range(target.shape[1]):\n",
    "            \n",
    "            # If both the target and predicted are same\n",
    "            if target[n_sample, n_element] == predicted[n_sample, n_element]:\n",
    "\n",
    "                # If the target and predicted are both 1\n",
    "                if target[n_sample, n_element] == 1 and predicted[n_sample, n_element] == 1:\n",
    "\n",
    "                    tp = tp + 1\n",
    "\n",
    "                # If the target and predicted are both 0\n",
    "                elif target[n_sample, n_element] == 0 and predicted[n_sample, n_element] == 0:\n",
    "\n",
    "                    tn = tn + 1\n",
    "            \n",
    "            # If the target and predicted are different\n",
    "            else:\n",
    "\n",
    "                # If the target is 0 and predicted is 1\n",
    "                if target[n_sample, n_element] == 0 and predicted[n_sample, n_element] == 1:\n",
    "\n",
    "                    fp = fp + 1\n",
    "                \n",
    "                # If the target is 1 and predicted is 0\n",
    "                elif target[n_sample, n_element] == 1 and predicted[n_sample, n_element] == 0:\n",
    "                \n",
    "                    fn = fn + 1\n",
    "            \n",
    "        # Calculate accuracy, precision, and recall\n",
    "        accuracy.append((tp + tn) / (tp + tn + fp + fn))\n",
    "        precision.append(tp / (tp + fp))\n",
    "        recall.append(tp / (tp + fn))\n",
    "    \n",
    "    # Convert the lists to numpy arrays\n",
    "    accuracy = np.array(accuracy)\n",
    "    precision = np.array(precision)\n",
    "    recall = np.array(recall)\n",
    "\n",
    "    # Calculate the F1 score\n",
    "    f1_score = 2 * (precision * recall) / (precision + recall)\n",
    "\n",
    "    return accuracy, precision, recall, f1_score"
   ]
  },
  {
   "cell_type": "code",
   "execution_count": 5,
   "metadata": {},
   "outputs": [],
   "source": [
    "# Function to plot void 0 prediction\n",
    "def plot_void(target, predicted, file_directory, sample_num, f1_score, void, keyword):\n",
    "\n",
    "    # See how the actual void looks in target\n",
    "    actual_plot = plt.figure()\n",
    "    ax = plt.axes()\n",
    "    im1 = plt.imshow(target[sample_num, :, :], cmap='binary', origin='lower', vmin=0, vmax=1, extent=[0, 50, 0, 50])\n",
    "    \n",
    "    # Domain section lines\n",
    "    plt.axhline(y=10, color='k', linewidth = 0.5, linestyle='--', dashes=(10, 5))\n",
    "    plt.axhline(y=20, color='k', linewidth = 0.5)\n",
    "    plt.axhline(y=30, color='k', linewidth = 0.5)\n",
    "    plt.axhline(y=40, color='k', linewidth = 0.5)\n",
    "\n",
    "    plt.axvline(x=5, color='k', linewidth = 0.5, linestyle='--', dashes=(10, 5))\n",
    "    plt.axvline(x=45, color='k', linewidth = 0.5, linestyle='--', dashes=(10, 5))\n",
    "    \n",
    "    plt.xlabel('$x$ [m]', fontsize=fontsize)\n",
    "    plt.ylabel('$y$ [m]', fontsize=fontsize)\n",
    "\n",
    "    plt.title(f'Sample Number: {sample_num+1}', fontsize=fontsize_ticks)\n",
    "    ax.tick_params(axis='both', which='major', labelsize=fontsize_ticks)\n",
    "    cax = actual_plot.add_axes([ax.get_position().x1+0.01,ax.get_position().y0,0.02,ax.get_position().height])\n",
    "    cb = plt.colorbar(im1, cax=cax)\n",
    "    cb.ax.tick_params(labelsize=fontsize_ticks)\n",
    "    plt.savefig(os.path.join(file_directory, f'{keyword}_void_{void}_target.pdf'), bbox_inches='tight')\n",
    "\n",
    "    # See how the predicted void looks in prediction\n",
    "    predicted_plot = plt.figure()\n",
    "    ax = plt.axes()\n",
    "    im2 = plt.imshow(predicted[sample_num, :], cmap='binary', origin='lower', vmin=0, vmax=1, extent=[0, 50, 0, 50])\n",
    "    \n",
    "    # Domain section lines\n",
    "    plt.axhline(y=10, color='k', linewidth = 0.5, linestyle='--', dashes=(10, 5))\n",
    "    plt.axhline(y=20, color='k', linewidth = 0.5)\n",
    "    plt.axhline(y=30, color='k', linewidth = 0.5)\n",
    "    plt.axhline(y=40, color='k', linewidth = 0.5)\n",
    "\n",
    "    plt.axvline(x=5, color='k', linewidth = 0.5, linestyle='--', dashes=(10, 5))\n",
    "    plt.axvline(x=45, color='k', linewidth = 0.5, linestyle='--', dashes=(10, 5))\n",
    "\n",
    "    plt.xlabel('$x$ [m]', fontsize=fontsize)\n",
    "    plt.ylabel('$y$ [m]', fontsize=fontsize)\n",
    "\n",
    "    plt.title(f'Sample Number: {sample_num+1}; F1 score: {f1_score*100:.2f}%', fontsize=fontsize_ticks)    \n",
    "    ax.tick_params(axis='both', which='major', labelsize=fontsize_ticks)\n",
    "    cax = predicted_plot.add_axes([ax.get_position().x1+0.01,ax.get_position().y0,0.02,ax.get_position().height])\n",
    "    cb = plt.colorbar(im2, cax=cax)\n",
    "    cb.ax.tick_params(labelsize=fontsize_ticks)\n",
    "    plt.savefig(os.path.join(file_directory, f'{keyword}_void_{void}_predicted.pdf'), bbox_inches='tight')\n",
    "\n",
    "    return actual_plot, predicted_plot"
   ]
  },
  {
   "cell_type": "code",
   "execution_count": 6,
   "metadata": {},
   "outputs": [],
   "source": [
    "# Define directories\n",
    "current_directory = os.getcwd()\n",
    "\n",
    "# Define directory for the normalized data\n",
    "normalized_data_directory = os.path.join(current_directory, '..', '..', 'data', 'normalized')\n",
    "\n",
    "# Define directory for the trained results\n",
    "trained_results_directory = os.path.join(current_directory, '..', '..', 'cnn', 'training_results')\n",
    "\n",
    "# Define directory for the prediction results\n",
    "prediction_results_directory = os.path.join(current_directory, '..', '..', 'cnn', 'prediction_results', 'top_ten')\n",
    "\n",
    "# Make a directory for the prediction results, if it does not exist\n",
    "if not os.path.exists(prediction_results_directory):\n",
    "    os.makedirs(prediction_results_directory)"
   ]
  },
  {
   "cell_type": "code",
   "execution_count": 7,
   "metadata": {},
   "outputs": [],
   "source": [
    "# Get the normalized data for all three voids\n",
    "void = 2\n",
    "void_test_displacement_data, void_target_void_data = get_data(normalized_data_directory, void)"
   ]
  },
  {
   "cell_type": "code",
   "execution_count": 8,
   "metadata": {},
   "outputs": [
    {
     "name": "stderr",
     "output_type": "stream",
     "text": [
      "2024-11-16 17:58:11.884003: I tensorflow/stream_executor/cuda/cuda_gpu_executor.cc:936] successful NUMA node read from SysFS had negative value (-1), but there must be at least one NUMA node, so returning NUMA node zero\n",
      "2024-11-16 17:58:11.890547: I tensorflow/stream_executor/cuda/cuda_gpu_executor.cc:936] successful NUMA node read from SysFS had negative value (-1), but there must be at least one NUMA node, so returning NUMA node zero\n",
      "2024-11-16 17:58:11.890697: I tensorflow/stream_executor/cuda/cuda_gpu_executor.cc:936] successful NUMA node read from SysFS had negative value (-1), but there must be at least one NUMA node, so returning NUMA node zero\n",
      "2024-11-16 17:58:11.891118: I tensorflow/core/platform/cpu_feature_guard.cc:151] This TensorFlow binary is optimized with oneAPI Deep Neural Network Library (oneDNN) to use the following CPU instructions in performance-critical operations:  AVX2 FMA\n",
      "To enable them in other operations, rebuild TensorFlow with the appropriate compiler flags.\n",
      "2024-11-16 17:58:11.891710: I tensorflow/stream_executor/cuda/cuda_gpu_executor.cc:936] successful NUMA node read from SysFS had negative value (-1), but there must be at least one NUMA node, so returning NUMA node zero\n",
      "2024-11-16 17:58:11.891840: I tensorflow/stream_executor/cuda/cuda_gpu_executor.cc:936] successful NUMA node read from SysFS had negative value (-1), but there must be at least one NUMA node, so returning NUMA node zero\n",
      "2024-11-16 17:58:11.891947: I tensorflow/stream_executor/cuda/cuda_gpu_executor.cc:936] successful NUMA node read from SysFS had negative value (-1), but there must be at least one NUMA node, so returning NUMA node zero\n",
      "2024-11-16 17:58:12.307556: I tensorflow/stream_executor/cuda/cuda_gpu_executor.cc:936] successful NUMA node read from SysFS had negative value (-1), but there must be at least one NUMA node, so returning NUMA node zero\n",
      "2024-11-16 17:58:12.307700: I tensorflow/stream_executor/cuda/cuda_gpu_executor.cc:936] successful NUMA node read from SysFS had negative value (-1), but there must be at least one NUMA node, so returning NUMA node zero\n",
      "2024-11-16 17:58:12.307821: I tensorflow/stream_executor/cuda/cuda_gpu_executor.cc:936] successful NUMA node read from SysFS had negative value (-1), but there must be at least one NUMA node, so returning NUMA node zero\n",
      "2024-11-16 17:58:12.307921: I tensorflow/core/common_runtime/gpu/gpu_device.cc:1525] Created device /job:localhost/replica:0/task:0/device:GPU:0 with 10073 MB memory:  -> device: 0, name: NVIDIA TITAN V, pci bus id: 0000:01:00.0, compute capability: 7.0\n"
     ]
    }
   ],
   "source": [
    "# Load the trained model\n",
    "# model = tf.keras.models.load_model(os.path.join(trained_results_directory, 'best_model.h5'))\n",
    "model = tf.keras.models.load_model(os.path.join(trained_results_directory, 'model.h5'))"
   ]
  },
  {
   "cell_type": "code",
   "execution_count": 9,
   "metadata": {},
   "outputs": [
    {
     "name": "stderr",
     "output_type": "stream",
     "text": [
      "2024-11-16 17:58:13.571241: I tensorflow/stream_executor/cuda/cuda_dnn.cc:368] Loaded cuDNN version 8200\n",
      "2024-11-16 17:58:13.854686: W tensorflow/stream_executor/gpu/asm_compiler.cc:111] *** WARNING *** You are using ptxas 10.1.243, which is older than 11.1. ptxas before 11.1 is known to miscompile XLA code, leading to incorrect results or invalid-address errors.\n",
      "\n",
      "You may not need to update to CUDA 11.1; cherry-picking the ptxas binary is often sufficient.\n"
     ]
    }
   ],
   "source": [
    "# Use the model to predict on the test data both probability and class\n",
    "threshold = 0.5\n",
    "void_predicted_void_data_probabilistic = model.predict(void_test_displacement_data)\n",
    "void_predicted_void_data_class = np.where(void_predicted_void_data_probabilistic > threshold, 1, 0)"
   ]
  },
  {
   "cell_type": "code",
   "execution_count": 10,
   "metadata": {},
   "outputs": [],
   "source": [
    "# Plot the void prediction\n",
    "if void != 0:\n",
    "\n",
    "    # Calculate the metrics\n",
    "    accuracy, precision, recall, f1_score = metrics_calculator(void_target_void_data, void_predicted_void_data_class)\n",
    "\n",
    "    # Top ten samples with the highest F1 score\n",
    "    top_ten_samples = f1_score.argsort()[-10:][::-1]"
   ]
  },
  {
   "cell_type": "code",
   "execution_count": 11,
   "metadata": {},
   "outputs": [],
   "source": [
    "# Reshape the target and predicted data to a 50x50 grid\n",
    "void_target_void_data = np.reshape(void_target_void_data, (void_target_void_data.shape[0], 50, 50))\n",
    "void_predicted_void_data_probabilistic = np.reshape(void_predicted_void_data_probabilistic, (void_predicted_void_data_probabilistic.shape[0], 50, 50))"
   ]
  },
  {
   "cell_type": "code",
   "execution_count": 12,
   "metadata": {},
   "outputs": [],
   "source": [
    "# Plot the top ten samples\n",
    "for n_sample, sample_num in enumerate(top_ten_samples):\n",
    "\n",
    "    # Plot the void prediction\n",
    "    actual_plot, predicted_plot = plot_void(void_target_void_data, void_predicted_void_data_probabilistic, prediction_results_directory, sample_num, f1_score[sample_num], void, str(n_sample+1))\n",
    "\n",
    "    # Close the plots\n",
    "    plt.close(actual_plot)\n",
    "    plt.close(predicted_plot)"
   ]
  }
 ],
 "metadata": {
  "kernelspec": {
   "display_name": "tensorflow_env",
   "language": "python",
   "name": "python3"
  },
  "language_info": {
   "codemirror_mode": {
    "name": "ipython",
    "version": 3
   },
   "file_extension": ".py",
   "mimetype": "text/x-python",
   "name": "python",
   "nbconvert_exporter": "python",
   "pygments_lexer": "ipython3",
   "version": "3.8.16"
  }
 },
 "nbformat": 4,
 "nbformat_minor": 2
}

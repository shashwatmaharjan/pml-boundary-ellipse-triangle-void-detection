{
 "cells": [
  {
   "cell_type": "code",
   "execution_count": 39,
   "metadata": {},
   "outputs": [],
   "source": [
    "# Import necessary libraries\n",
    "import numpy as np\n",
    "import os\n",
    "\n",
    "from scipy.io import loadmat, savemat"
   ]
  },
  {
   "cell_type": "code",
   "execution_count": 40,
   "metadata": {},
   "outputs": [],
   "source": [
    "# Define necessary functions\n",
    "# Function to load the data\n",
    "def get_data(file_directory, void_number):\n",
    "\n",
    "    print(f'Retrieving data from void {void_number}...')\n",
    "    \n",
    "    # Load the displacement data\n",
    "    displacement_data = loadmat(os.path.join(file_directory, 'void_' + str(void_number) + '_displacement_data.mat'))\n",
    "    \n",
    "    # Load the void data\n",
    "    void_data = loadmat(os.path.join(file_directory, 'void_' + str(void_number) + '_void_data.mat'))\n",
    "    \n",
    "    return displacement_data['displacement_data'], void_data['void_data']"
   ]
  },
  {
   "cell_type": "code",
   "execution_count": 41,
   "metadata": {},
   "outputs": [],
   "source": [
    "# Function to split the data into training, validation, and testing sets\n",
    "def dataset_divider(min_samples, displacement_data, void_data):\n",
    "\n",
    "    start_size = 0\n",
    "    training_index = int((80/100) * min_samples)\n",
    "    validation_index = training_index + int((10/100) * min_samples)\n",
    "    test_index = min_samples\n",
    "\n",
    "    # Split the displacement data\n",
    "    training_displacement_data = displacement_data[start_size:training_index]\n",
    "    validation_displacement_data = displacement_data[training_index:validation_index]\n",
    "    test_displacement_data = displacement_data[validation_index:test_index]\n",
    "\n",
    "    # Split the void data\n",
    "    training_void_data = void_data[start_size:training_index]\n",
    "    validation_void_data = void_data[training_index:validation_index]\n",
    "    test_void_data = void_data[validation_index:test_index]\n",
    "\n",
    "    return training_displacement_data, validation_displacement_data, test_displacement_data, training_void_data, validation_void_data, test_void_data"
   ]
  },
  {
   "cell_type": "code",
   "execution_count": 42,
   "metadata": {},
   "outputs": [],
   "source": [
    "# Function to save dataset\n",
    "def save_data(displacement_data, void_data, displacement_file_name, void_file_name, file_directory_to_save_data):\n",
    "\n",
    "    # Save the displacement data\n",
    "    savemat(os.path.join(file_directory_to_save_data, displacement_file_name), {'displacement_data': displacement_data})\n",
    "\n",
    "    # Save the void data\n",
    "    savemat(os.path.join(file_directory_to_save_data, void_file_name), {'void_data': void_data})"
   ]
  },
  {
   "cell_type": "code",
   "execution_count": 43,
   "metadata": {},
   "outputs": [],
   "source": [
    "# Define directories\n",
    "current_directory = os.getcwd()\n",
    "parent_directory = os.path.dirname(current_directory)\n",
    "grandparent_directory = os.path.dirname(parent_directory)\n",
    "\n",
    "# Directory to converted data from cell to matrix\n",
    "converted_directory = os.path.join(grandparent_directory, 'data', 'converted')\n",
    "\n",
    "# Directory to organized data\n",
    "organized_directory = os.path.join(grandparent_directory, 'data', 'divided')"
   ]
  },
  {
   "cell_type": "code",
   "execution_count": 44,
   "metadata": {},
   "outputs": [
    {
     "name": "stdout",
     "output_type": "stream",
     "text": [
      "Retrieving data from void 0...\n",
      "Retrieving data from void 1...\n",
      "Retrieving data from void 2...\n"
     ]
    }
   ],
   "source": [
    "# Get the displacement and void data for all three voids\n",
    "void_0_displacement_data, void_0_void_data = get_data(converted_directory, 0)\n",
    "void_1_displacement_data, void_1_void_data = get_data(converted_directory, 1)\n",
    "void_2_displacement_data, void_2_void_data = get_data(converted_directory, 2)"
   ]
  },
  {
   "cell_type": "code",
   "execution_count": 45,
   "metadata": {},
   "outputs": [],
   "source": [
    "# Since all the data does not have same number of samples, we find the minimum number of samples\n",
    "min_samples = min(void_0_displacement_data.shape[0], void_1_displacement_data.shape[0], void_2_displacement_data.shape[0])"
   ]
  },
  {
   "cell_type": "code",
   "execution_count": 46,
   "metadata": {},
   "outputs": [],
   "source": [
    "# Randomly shuffle the data based on a seed\n",
    "SEED = 42\n",
    "\n",
    "np.random.seed(SEED)\n",
    "\n",
    "# Shuffle the data\n",
    "# Void 0\n",
    "void_0_indices = np.random.permutation(void_0_displacement_data.shape[0])\n",
    "\n",
    "void_0_displacement_data = void_0_displacement_data[void_0_indices]\n",
    "void_0_void_data = void_0_void_data[void_0_indices]\n",
    "\n",
    "# Void 1\n",
    "void_1_indices = np.random.permutation(void_1_displacement_data.shape[0])\n",
    "\n",
    "void_1_displacement_data = void_1_displacement_data[void_1_indices]\n",
    "void_1_void_data = void_1_void_data[void_1_indices]\n",
    "\n",
    "# Void 2\n",
    "void_2_indices = np.random.permutation(void_2_displacement_data.shape[0])\n",
    "\n",
    "void_2_displacement_data = void_2_displacement_data[void_2_indices]\n",
    "void_2_void_data = void_2_void_data[void_2_indices]"
   ]
  },
  {
   "cell_type": "code",
   "execution_count": 47,
   "metadata": {},
   "outputs": [],
   "source": [
    "# Split the data into training, validation, and testing sets\n",
    "void_0_training_displacement_data, void_0_validation_displacement_data, void_0_test_displacement_data, void_0_training_void_data, void_0_validation_void_data, void_0_test_void_data = dataset_divider(min_samples, void_0_displacement_data, void_0_void_data)\n",
    "void_1_training_displacement_data, void_1_validation_displacement_data, void_1_test_displacement_data, void_1_training_void_data, void_1_validation_void_data, void_1_test_void_data = dataset_divider(min_samples, void_1_displacement_data, void_1_void_data)\n",
    "void_2_training_displacement_data, void_2_validation_displacement_data, void_2_test_displacement_data, void_2_training_void_data, void_2_validation_void_data, void_2_test_void_data = dataset_divider(min_samples, void_2_displacement_data, void_2_void_data)"
   ]
  },
  {
   "cell_type": "code",
   "execution_count": 48,
   "metadata": {},
   "outputs": [
    {
     "name": "stdout",
     "output_type": "stream",
     "text": [
      "Saving void 0 data...\n",
      "Saving void 1 data...\n",
      "Saving void 2 data...\n"
     ]
    }
   ],
   "source": [
    "# Save the data\n",
    "# Void 0\n",
    "print(f'Saving void 0 data...')\n",
    "save_data(void_0_training_displacement_data, void_0_training_void_data, 'void_0_training_displacement_data.mat', 'void_0_training_void_data.mat', organized_directory)\n",
    "save_data(void_0_validation_displacement_data, void_0_validation_void_data, 'void_0_validation_displacement_data.mat', 'void_0_validation_void_data.mat', organized_directory)\n",
    "save_data(void_0_test_displacement_data, void_0_test_void_data, 'void_0_test_displacement_data.mat', 'void_0_test_void_data.mat', organized_directory)\n",
    "\n",
    "# Void 1\n",
    "print(f'Saving void 1 data...')\n",
    "save_data(void_1_training_displacement_data, void_1_training_void_data, 'void_1_training_displacement_data.mat', 'void_1_training_void_data.mat', organized_directory)\n",
    "save_data(void_1_validation_displacement_data, void_1_validation_void_data, 'void_1_validation_displacement_data.mat', 'void_1_validation_void_data.mat', organized_directory)\n",
    "save_data(void_1_test_displacement_data, void_1_test_void_data, 'void_1_test_displacement_data.mat', 'void_1_test_void_data.mat', organized_directory)\n",
    "\n",
    "# Void 2\n",
    "print(f'Saving void 2 data...')\n",
    "save_data(void_2_training_displacement_data, void_2_training_void_data, 'void_2_training_displacement_data.mat', 'void_2_training_void_data.mat', organized_directory)\n",
    "save_data(void_2_validation_displacement_data, void_2_validation_void_data, 'void_2_validation_displacement_data.mat', 'void_2_validation_void_data.mat', organized_directory)\n",
    "save_data(void_2_test_displacement_data, void_2_test_void_data, 'void_2_test_displacement_data.mat', 'void_2_test_void_data.mat', organized_directory)"
   ]
  },
  {
   "cell_type": "code",
   "execution_count": 49,
   "metadata": {},
   "outputs": [
    {
     "data": {
      "text/plain": [
       "<matplotlib.lines.Line2D at 0x7f3fcb3da7c0>"
      ]
     },
     "execution_count": 49,
     "metadata": {},
     "output_type": "execute_result"
    },
    {
     "data": {
      "image/png": "[encoded data removed]",
      "text/plain": [
       "<Figure size 640x480 with 1 Axes>"
      ]
     },
     "metadata": {},
     "output_type": "display_data"
    }
   ],
   "source": [
    "import matplotlib.pyplot as plt\n",
    "\n",
    "target = void_2_test_void_data\n",
    "\n",
    "# Plot the void data\n",
    "sample_number = np.random.randint(0, target.shape[0])\n",
    "\n",
    "target = np.reshape(target, (target.shape[0], 50, 50))\n",
    "\n",
    "# See how the actual void looks in target\n",
    "actual_plot = plt.figure()\n",
    "ax = plt.axes()\n",
    "im1 = plt.imshow(target[sample_number, :, :], cmap='binary', origin='lower', vmin=0, vmax=1, extent=[0, 50, 0, 50])\n",
    "    \n",
    "# Domain section lines\n",
    "plt.axhline(y=10, color='k', linewidth = 0.5, linestyle='--', dashes=(10, 5))\n",
    "plt.axhline(y=20, color='k', linewidth = 0.5)\n",
    "plt.axhline(y=30, color='k', linewidth = 0.5)\n",
    "plt.axhline(y=40, color='k', linewidth = 0.5)"
   ]
  }
 ],
 "metadata": {
  "kernelspec": {
   "display_name": "tensorflow_env",
   "language": "python",
   "name": "python3"
  },
  "language_info": {
   "codemirror_mode": {
    "name": "ipython",
    "version": 3
   },
   "file_extension": ".py",
   "mimetype": "text/x-python",
   "name": "python",
   "nbconvert_exporter": "python",
   "pygments_lexer": "ipython3",
   "version": "3.8.16"
  }
 },
 "nbformat": 4,
 "nbformat_minor": 2
}
